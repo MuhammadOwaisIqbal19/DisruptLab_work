{
  "nbformat": 4,
  "nbformat_minor": 0,
  "metadata": {
    "colab": {
      "provenance": [],
      "authorship_tag": "ABX9TyPFMiwsLU29SVJI9KcEdfKk",
      "include_colab_link": true
    },
    "kernelspec": {
      "name": "python3",
      "display_name": "Python 3"
    },
    "language_info": {
      "name": "python"
    }
  },
  "cells": [
    {
      "cell_type": "markdown",
      "metadata": {
        "id": "view-in-github",
        "colab_type": "text"
      },
      "source": [
        "<a href=\"https://colab.research.google.com/github/MuhammadOwaisIqbal19/DisruptLab_work/blob/main/PPT__Text_Parser.ipynb\" target=\"_parent\"><img src=\"https://colab.research.google.com/assets/colab-badge.svg\" alt=\"Open In Colab\"/></a>"
      ]
    },
    {
      "cell_type": "code",
      "execution_count": 24,
      "metadata": {
        "colab": {
          "base_uri": "https://localhost:8080/"
        },
        "id": "9t_RAHzm9E0u",
        "outputId": "929459b3-4c50-4b57-b1f8-316fdc302bc3"
      },
      "outputs": [
        {
          "output_type": "stream",
          "name": "stdout",
          "text": [
            "Requirement already satisfied: python-pptx in /usr/local/lib/python3.11/dist-packages (1.0.2)\n",
            "Requirement already satisfied: Pillow>=3.3.2 in /usr/local/lib/python3.11/dist-packages (from python-pptx) (11.2.1)\n",
            "Requirement already satisfied: XlsxWriter>=0.5.7 in /usr/local/lib/python3.11/dist-packages (from python-pptx) (3.2.5)\n",
            "Requirement already satisfied: lxml>=3.1.0 in /usr/local/lib/python3.11/dist-packages (from python-pptx) (5.4.0)\n",
            "Requirement already satisfied: typing-extensions>=4.9.0 in /usr/local/lib/python3.11/dist-packages (from python-pptx) (4.14.1)\n"
          ]
        }
      ],
      "source": [
        "pip install python-pptx\n"
      ]
    },
    {
      "cell_type": "code",
      "source": [
        "from pptx import Presentation\n",
        "\n",
        "def extract_text_from_pptx(file_path):\n",
        "    prs = Presentation(file_path)\n",
        "    all_text = []\n",
        "\n",
        "    for slide_number, slide in enumerate(prs.slides, start=1):\n",
        "        slide_text = f\"--- Slide {slide_number} ---\\n\"\n",
        "        for shape in slide.shapes:\n",
        "            if hasattr(shape, \"text\"):\n",
        "                slide_text += shape.text.strip() + \"\\n\"\n",
        "        all_text.append(slide_text.strip())\n",
        "\n",
        "    return \"\\n\\n\".join(all_text)\n",
        "\n",
        "# === Replace with your actual file path ===\n",
        "pptx_file = \"/content/WE_JavaScript.pptx\"# <- update this\n",
        "\n",
        "# Extract text\n",
        "text = extract_text_from_pptx(pptx_file)\n",
        "\n",
        "# Save to a text file\n",
        "output_file = \"extracted_text.txt\"\n",
        "with open(output_file, \"w\", encoding=\"utf-8\") as f:\n",
        "    f.write(text)\n",
        "\n",
        "print(f\"✅ Text extracted and saved to '{output_file}'\")\n"
      ],
      "metadata": {
        "colab": {
          "base_uri": "https://localhost:8080/"
        },
        "id": "j1ScX5-DAwcX",
        "outputId": "e4f1fc54-1030-4396-e280-e14149242708"
      },
      "execution_count": 23,
      "outputs": [
        {
          "output_type": "stream",
          "name": "stdout",
          "text": [
            "✅ Text extracted and saved to 'extracted_text.txt'\n"
          ]
        }
      ]
    },
    {
      "cell_type": "code",
      "source": [
        "import os\n",
        "\n",
        "pptx_file = \"D:/Downalods(D)/WE_JavaScript.pptx\"\n",
        "\n",
        "if os.path.exists(pptx_file):\n",
        "    print(\"✅ File exisrts.\")\n",
        "else:\n",
        "    print(\"❌ File does NOT exist.\")\n"
      ],
      "metadata": {
        "colab": {
          "base_uri": "https://localhost:8080/"
        },
        "id": "Q2yOZ3uUDzjn",
        "outputId": "f33d324d-88a2-4c80-b5a6-42645feaaa2c"
      },
      "execution_count": 18,
      "outputs": [
        {
          "output_type": "stream",
          "name": "stdout",
          "text": [
            "❌ File does NOT exist.\n"
          ]
        }
      ]
    }
  ]
}